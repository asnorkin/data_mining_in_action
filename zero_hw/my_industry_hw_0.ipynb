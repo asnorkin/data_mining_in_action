{
 "cells": [
  {
   "cell_type": "markdown",
   "metadata": {},
   "source": [
    "# First task"
   ]
  },
  {
   "cell_type": "code",
   "execution_count": 1,
   "metadata": {
    "collapsed": true
   },
   "outputs": [],
   "source": [
    "def convert_to_ints(string):                \n",
    "    return map(lambda x: -1 if x == '' else int(x), string)"
   ]
  },
  {
   "cell_type": "code",
   "execution_count": 2,
   "metadata": {
    "collapsed": true
   },
   "outputs": [],
   "source": [
    "def get_id_lists_from_train_file(filename):\n",
    "    train_file = open(filename, \"rU\")    \n",
    "    viewed = []\n",
    "    bought  = []\n",
    "    list_viewed = []\n",
    "    list_bought = []\n",
    "    \n",
    "    for line in train_file:\n",
    "        splitted_line = line.split(';')   \n",
    "        curr_view = convert_to_ints(splitted_line[0].split(','))\n",
    "        curr_buy  = convert_to_ints(splitted_line[1].strip('\\n').split(','))\n",
    "        \n",
    "        viewed.append(curr_view)     \n",
    "        bought.append(curr_buy)\n",
    "        \n",
    "        list_viewed.extend(curr_view)        \n",
    "        list_bought.extend(curr_buy)\n",
    "    \n",
    "    return viewed, bought, list_viewed, list_bought"
   ]
  },
  {
   "cell_type": "code",
   "execution_count": 3,
   "metadata": {
    "collapsed": false
   },
   "outputs": [],
   "source": [
    "tr_viewed, tr_bought, tr_list_viewed, tr_list_bought = get_id_lists_from_train_file('coursera_sessions_train.txt')"
   ]
  },
  {
   "cell_type": "code",
   "execution_count": 4,
   "metadata": {
    "collapsed": true
   },
   "outputs": [],
   "source": [
    "from collections import Counter"
   ]
  },
  {
   "cell_type": "code",
   "execution_count": 5,
   "metadata": {
    "collapsed": true
   },
   "outputs": [],
   "source": [
    "frqd_viewed = dict(Counter(tr_list_viewed))\n",
    "frqd_bought = dict(Counter(tr_list_bought))"
   ]
  },
  {
   "cell_type": "markdown",
   "metadata": {},
   "source": [
    "# Second task"
   ]
  },
  {
   "cell_type": "code",
   "execution_count": 258,
   "metadata": {
    "collapsed": true
   },
   "outputs": [],
   "source": [
    "def cmp_by_views(a, b):\n",
    "    global frqd_viewed\n",
    "    \n",
    "    if a[1] in frqd_viewed and b[1] in frqd_viewed:\n",
    "        if frqd_viewed[a[1]] != frqd_viewed[b[1]]:\n",
    "            return frqd_viewed[b[1]] - frqd_viewed[a[1]]\n",
    "        else:\n",
    "            return a[0] - b[0]\n",
    "    elif a[1] in frqd_viewed:\n",
    "        return -1\n",
    "    elif b[1] in frqd_viewed:\n",
    "        return 1\n",
    "    else:\n",
    "        return a[0] - b[0]"
   ]
  },
  {
   "cell_type": "code",
   "execution_count": 259,
   "metadata": {
    "collapsed": true
   },
   "outputs": [],
   "source": [
    "def cmp_by_buys(a, b):\n",
    "    global frqd_bought\n",
    "    \n",
    "    if a[1] in frqd_bought and b[1] in frqd_bought:\n",
    "        if frqd_bought[a[1]] != frqd_bought[b[1]]:\n",
    "            return frqd_bought[b[1]] - frqd_bought[a[1]] \n",
    "        else:\n",
    "            return a[0] - b[0]\n",
    "    elif a[1] in frqd_bought:\n",
    "        return -1\n",
    "    elif b[1] in frqd_bought:\n",
    "        return 1\n",
    "    else:\n",
    "        return a[0] - b[0]"
   ]
  },
  {
   "cell_type": "code",
   "execution_count": 260,
   "metadata": {
    "collapsed": true
   },
   "outputs": [],
   "source": [
    "def without_repetions(seq):\n",
    "    seen = set()\n",
    "    seen_add = seen.add\n",
    "    return [x for x in seq if not (x in seen or seen_add(x))]"
   ]
  },
  {
   "cell_type": "code",
   "execution_count": 261,
   "metadata": {
    "collapsed": true
   },
   "outputs": [],
   "source": [
    "def sort_session(session, k_first):    \n",
    "    sorted_by_views = sorted(enumerate(without_repetions(session)), cmp=cmp_by_views)\n",
    "    sorted_by_views = map(lambda x: x[1], sorted_by_views)\n",
    "    \n",
    "    sorted_by_buys  = sorted(enumerate(without_repetions(session)), cmp=cmp_by_buys)\n",
    "    sorted_by_buys  = map(lambda x: x[1], sorted_by_buys)\n",
    "    \n",
    "    return sorted_by_views[:k_first], sorted_by_buys[:k_first]"
   ]
  },
  {
   "cell_type": "markdown",
   "metadata": {},
   "source": [
    "# Third task"
   ]
  },
  {
   "cell_type": "code",
   "execution_count": 275,
   "metadata": {
    "collapsed": false
   },
   "outputs": [],
   "source": [
    "def precision_recall_k(session_viewed, session_bought, k):\n",
    "    \n",
    "    sorted_by_views_session, sorted_by_buys_session = sort_session(session_viewed, k)\n",
    "    \n",
    "    precision_by_views = 0\n",
    "    precision_by_buys  = 0\n",
    "    \n",
    "    for bought in session_bought:                \n",
    "        if bought in sorted_by_views_session:\n",
    "            precision_by_views += 1\n",
    "        if bought in sorted_by_buys_session:\n",
    "            precision_by_buys  += 1         \n",
    "    \n",
    "    return float(precision_by_views) / k, float(precision_by_buys) / k, float(precision_by_views) / len(session_bought), float(precision_by_buys) / len(session_bought)"
   ]
  },
  {
   "cell_type": "code",
   "execution_count": 276,
   "metadata": {
    "collapsed": false
   },
   "outputs": [],
   "source": [
    "def mean(sequence):\n",
    "    return float(sum(sequence)) / len(sequence)"
   ]
  },
  {
   "cell_type": "code",
   "execution_count": 303,
   "metadata": {
    "collapsed": false
   },
   "outputs": [],
   "source": [
    "def average_precision_recall_k(viewed, bought, k):\n",
    "    \n",
    "    bought_session_count = 0\n",
    "    precisions_by_view = []\n",
    "    precisions_by_buys = []\n",
    "    recalls_by_view = []\n",
    "    recalls_by_buys = []\n",
    "    \n",
    "    for view, buy in zip(viewed, bought):        \n",
    "        if buy == [-1]: continue\n",
    "        \n",
    "        prec_by_view, prec_by_buy, rec_by_view, rec_by_buy = precision_recall_k(view, buy, k)\n",
    "        precisions_by_view.append(prec_by_view)\n",
    "        precisions_by_buys.append(prec_by_buy)\n",
    "        recalls_by_view.append(rec_by_view)\n",
    "        recalls_by_buys.append(rec_by_buy)\n",
    "    \n",
    "    return [mean(precisions_by_view), mean(precisions_by_buys), mean(recalls_by_view), mean(recalls_by_buys)]"
   ]
  },
  {
   "cell_type": "code",
   "execution_count": 322,
   "metadata": {
    "collapsed": false
   },
   "outputs": [
    {
     "name": "stdout",
     "output_type": "stream",
     "text": [
      "**** TEST ****\n",
      "**VIEWS**\n",
      "recall_1 0.44  precision_1 0.51\n",
      "recall_5 0.82  precision_5 0.21\n",
      "**BUYS**\n",
      "recall_1 0.69  precision_1 0.80\n",
      "recall_5 0.93  precision_5 0.25\n"
     ]
    }
   ],
   "source": [
    "avg_prc_by_views_1, avg_prc_by_buys_1, avg_rec_by_views_1, avg_rec_by_buys_1 = average_precision_recall_k(tr_viewed, tr_bought, 1)\n",
    "avg_prc_by_views_5, avg_prc_by_buys_5, avg_rec_by_views_5, avg_rec_by_buys_5 = average_precision_recall_k(tr_viewed, tr_bought, 5)\n",
    "print \"**** TRAIN ****\"\n",
    "print \"**VIEWS**\"\n",
    "print \"recall_1 %.2f\" % (avg_rec_by_views_1), \" precision_1 %.2f\" % (avg_prc_by_views_1)\n",
    "print \"recall_5 %.2f\" % (avg_rec_by_views_5), \" precision_5 %.2f\" % (avg_prc_by_views_5)\n",
    "print \"**BUYS**\"\n",
    "print \"recall_1 %.2f\" % (avg_rec_by_buys_1), \" precision_1 %.2f\" % (avg_prc_by_buys_1)\n",
    "print \"recall_5 %.2f\" % (avg_rec_by_buys_5), \" precision_5 %.2f\" % (avg_prc_by_buys_5)"
   ]
  },
  {
   "cell_type": "markdown",
   "metadata": {},
   "source": [
    "Now let's calculate for test"
   ]
  },
  {
   "cell_type": "code",
   "execution_count": 318,
   "metadata": {
    "collapsed": true
   },
   "outputs": [],
   "source": [
    "tst_viewed, tst_bought, _, _ = get_id_lists_from_train_file('coursera_sessions_test.txt')"
   ]
  },
  {
   "cell_type": "code",
   "execution_count": 323,
   "metadata": {
    "collapsed": false
   },
   "outputs": [
    {
     "name": "stdout",
     "output_type": "stream",
     "text": [
      "**** TEST ****\n",
      "**VIEWS**\n",
      "recall_1 0.42  precision_1 0.48\n",
      "recall_5 0.80  precision_5 0.20\n",
      "**BUYS**\n",
      "recall_1 0.46  precision_1 0.53\n",
      "recall_5 0.82  precision_5 0.21\n"
     ]
    }
   ],
   "source": [
    "avg_prc_by_views_1, avg_prc_by_buys_1, avg_rec_by_views_1, avg_rec_by_buys_1 = average_precision_recall_k(tst_viewed, tst_bought, 1)\n",
    "avg_prc_by_views_5, avg_prc_by_buys_5, avg_rec_by_views_5, avg_rec_by_buys_5 = average_precision_recall_k(tst_viewed, tst_bought, 5)\n",
    "print \"**** TEST ****\"\n",
    "print \"**VIEWS**\"\n",
    "print \"recall_1 %.2f\" % (avg_rec_by_views_1), \" precision_1 %.2f\" % (avg_prc_by_views_1)\n",
    "print \"recall_5 %.2f\" % (avg_rec_by_views_5), \" precision_5 %.2f\" % (avg_prc_by_views_5)\n",
    "print \"**BUYS**\"\n",
    "print \"recall_1 %.2f\" % (avg_rec_by_buys_1), \" precision_1 %.2f\" % (avg_prc_by_buys_1)\n",
    "print \"recall_5 %.2f\" % (avg_rec_by_buys_5), \" precision_5 %.2f\" % (avg_prc_by_buys_5)"
   ]
  },
  {
   "cell_type": "code",
   "execution_count": null,
   "metadata": {
    "collapsed": true
   },
   "outputs": [],
   "source": []
  }
 ],
 "metadata": {
  "kernelspec": {
   "display_name": "Python [Root]",
   "language": "python",
   "name": "Python [Root]"
  },
  "language_info": {
   "codemirror_mode": {
    "name": "ipython",
    "version": 2
   },
   "file_extension": ".py",
   "mimetype": "text/x-python",
   "name": "python",
   "nbconvert_exporter": "python",
   "pygments_lexer": "ipython2",
   "version": "2.7.12"
  }
 },
 "nbformat": 4,
 "nbformat_minor": 0
}
