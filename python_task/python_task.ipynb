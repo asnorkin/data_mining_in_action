{
 "cells": [
  {
   "cell_type": "markdown",
   "metadata": {},
   "source": [
    "# Python"
   ]
  },
  {
   "cell_type": "markdown",
   "metadata": {},
   "source": [
    "FizzBuzz"
   ]
  },
  {
   "cell_type": "code",
   "execution_count": 1,
   "metadata": {
    "collapsed": true
   },
   "outputs": [],
   "source": [
    "N_from = 1\n",
    "N_to = 100"
   ]
  },
  {
   "cell_type": "code",
   "execution_count": 2,
   "metadata": {
    "collapsed": false
   },
   "outputs": [
    {
     "name": "stdout",
     "output_type": "stream",
     "text": [
      "1\n",
      "2\n",
      "Fizz\n",
      "4\n",
      "Buzz\n",
      "Fizz\n",
      "7\n",
      "8\n",
      "Fizz\n",
      "Buzz\n",
      "11\n",
      "Fizz\n",
      "13\n",
      "14\n",
      "FizzBuzz\n",
      "16\n",
      "17\n",
      "Fizz\n",
      "19\n",
      "Buzz\n",
      "Fizz\n",
      "22\n",
      "23\n",
      "Fizz\n",
      "Buzz\n",
      "26\n",
      "Fizz\n",
      "28\n",
      "29\n",
      "FizzBuzz\n",
      "31\n",
      "32\n",
      "Fizz\n",
      "34\n",
      "Buzz\n",
      "Fizz\n",
      "37\n",
      "38\n",
      "Fizz\n",
      "Buzz\n",
      "41\n",
      "Fizz\n",
      "43\n",
      "44\n",
      "FizzBuzz\n",
      "46\n",
      "47\n",
      "Fizz\n",
      "49\n",
      "Buzz\n",
      "Fizz\n",
      "52\n",
      "53\n",
      "Fizz\n",
      "Buzz\n",
      "56\n",
      "Fizz\n",
      "58\n",
      "59\n",
      "FizzBuzz\n",
      "61\n",
      "62\n",
      "Fizz\n",
      "64\n",
      "Buzz\n",
      "Fizz\n",
      "67\n",
      "68\n",
      "Fizz\n",
      "Buzz\n",
      "71\n",
      "Fizz\n",
      "73\n",
      "74\n",
      "FizzBuzz\n",
      "76\n",
      "77\n",
      "Fizz\n",
      "79\n",
      "Buzz\n",
      "Fizz\n",
      "82\n",
      "83\n",
      "Fizz\n",
      "Buzz\n",
      "86\n",
      "Fizz\n",
      "88\n",
      "89\n",
      "FizzBuzz\n",
      "91\n",
      "92\n",
      "Fizz\n",
      "94\n",
      "Buzz\n",
      "Fizz\n",
      "97\n",
      "98\n",
      "Fizz\n",
      "Buzz\n"
     ]
    }
   ],
   "source": [
    "for i in xrange(N_from, N_to + 1):\n",
    "    output = \"\"\n",
    "    if i % 3 == 0:\n",
    "        output += \"Fizz\"\n",
    "    if i % 5 == 0:\n",
    "        output += \"Buzz\"    \n",
    "    \n",
    "    print output or i"
   ]
  },
  {
   "cell_type": "markdown",
   "metadata": {},
   "source": [
    "100-th Fibonacci number"
   ]
  },
  {
   "cell_type": "code",
   "execution_count": 3,
   "metadata": {
    "collapsed": true
   },
   "outputs": [],
   "source": [
    "def Fibonacci(number):\n",
    "    if number == 0:\n",
    "        return 0\n",
    "    if number == 1:\n",
    "        return 1\n",
    "    \n",
    "    prev_prev_numb = 0\n",
    "    prev_numb = 1\n",
    "    numb = 1\n",
    "    \n",
    "    for _ in range(2, number):\n",
    "        prev_prev_numb = prev_numb\n",
    "        prev_numb = numb\n",
    "        numb = prev_prev_numb + prev_numb\n",
    "    \n",
    "    return numb"
   ]
  },
  {
   "cell_type": "code",
   "execution_count": 4,
   "metadata": {
    "collapsed": false
   },
   "outputs": [
    {
     "name": "stdout",
     "output_type": "stream",
     "text": [
      "354224848179261915075\n"
     ]
    }
   ],
   "source": [
    "print Fibonacci(100)"
   ]
  },
  {
   "cell_type": "markdown",
   "metadata": {},
   "source": [
    "Quick Sort"
   ]
  },
  {
   "cell_type": "code",
   "execution_count": 5,
   "metadata": {
    "collapsed": true
   },
   "outputs": [],
   "source": [
    "import random"
   ]
  },
  {
   "cell_type": "code",
   "execution_count": 6,
   "metadata": {
    "collapsed": false
   },
   "outputs": [],
   "source": [
    "def partition(sequence):\n",
    "    piv = sequence[0]\n",
    "    p, q = 1, len(sequence) - 1\n",
    "    \n",
    "    while True:\n",
    "        while p < len(sequence) and sequence[p] <= piv: p += 1\n",
    "        while q > 0 and sequence[q] >  piv: q -= 1\n",
    "        \n",
    "        if p < q:\n",
    "            sequence[p], sequence[q] = sequence[q], sequence[p]\n",
    "        else:\n",
    "            break\n",
    "    \n",
    "    return p\n",
    "    \n",
    "    \n",
    "def qsort_list(sequence):\n",
    "    if len(sequence) == 0 or len(sequence) == 1:\n",
    "        return sequence    \n",
    "    if len(sequence) == 2:\n",
    "        if sequence[0] > sequence[1]:\n",
    "            sequence[0], sequence[1] = sequence[1], sequence[0]\n",
    "        return sequence\n",
    "    \n",
    "    r = partition(sequence)\n",
    "    \n",
    "    return qsort_list(sequence[1:r]) + [sequence[0]] + qsort_list(sequence[r:])"
   ]
  },
  {
   "cell_type": "code",
   "execution_count": 7,
   "metadata": {
    "collapsed": false
   },
   "outputs": [
    {
     "name": "stdout",
     "output_type": "stream",
     "text": [
      "[-42, -27, 92, 68, 67, -42, -70, 73, 41, 79, 84, -100, -47, 16, -84, -63, 65, 4, 14, 81]\n",
      "[-100, -84, -70, -63, -47, -42, -42, -27, 4, 14, 16, 41, 65, 67, 68, 73, 79, 81, 84, 92]\n"
     ]
    }
   ],
   "source": [
    "seq = [random.randint(-100, 100) for i in range(20)]\n",
    "print seq\n",
    "print qsort_list(seq)"
   ]
  },
  {
   "cell_type": "markdown",
   "metadata": {},
   "source": [
    "One line qsort"
   ]
  },
  {
   "cell_type": "code",
   "execution_count": 8,
   "metadata": {
    "collapsed": false
   },
   "outputs": [],
   "source": [
    "olqs = lambda sq: [] if not sq else olqs(filter(lambda x: x <= sq[0], sq[1:])) + [sq[0]] + olqs(filter(lambda x: x > sq[0], sq[1:]))"
   ]
  },
  {
   "cell_type": "code",
   "execution_count": 9,
   "metadata": {
    "collapsed": false
   },
   "outputs": [
    {
     "name": "stdout",
     "output_type": "stream",
     "text": [
      "[-42, -63, -84, -47, -100, -42, -70, 73, 41, 79, 84, 67, 68, 16, 92, -27, 65, 4, 14, 81]\n",
      "[-100, -84, -70, -63, -47, -42, -42, -27, 4, 14, 16, 41, 65, 67, 68, 73, 79, 81, 84, 92]\n"
     ]
    }
   ],
   "source": [
    "print seq\n",
    "print olqs(seq)"
   ]
  },
  {
   "cell_type": "markdown",
   "metadata": {},
   "source": [
    "# NumPy"
   ]
  },
  {
   "cell_type": "code",
   "execution_count": 10,
   "metadata": {
    "collapsed": true
   },
   "outputs": [],
   "source": [
    "import numpy as np\n",
    "import time"
   ]
  },
  {
   "cell_type": "markdown",
   "metadata": {},
   "source": [
    "Linspace"
   ]
  },
  {
   "cell_type": "code",
   "execution_count": 11,
   "metadata": {
    "collapsed": false
   },
   "outputs": [],
   "source": [
    "def my_linspace_loop(start, stop, num=50):\n",
    "    output = np.zeros(num);\n",
    "    step = float(stop - start) / (num - 1)\n",
    "    \n",
    "    value = start \n",
    "    for i in np.arange(num):\n",
    "        output[i] = value\n",
    "        value += step\n",
    "    \n",
    "    return output"
   ]
  },
  {
   "cell_type": "code",
   "execution_count": 12,
   "metadata": {
    "collapsed": true
   },
   "outputs": [],
   "source": [
    "def my_linspace_lc(start, stop, num=50):\n",
    "    step = float(stop - start) / (num - 1)\n",
    "    \n",
    "    return np.array([start + step * i for i in np.arange(num)])"
   ]
  },
  {
   "cell_type": "code",
   "execution_count": 13,
   "metadata": {
    "collapsed": false
   },
   "outputs": [
    {
     "name": "stdout",
     "output_type": "stream",
     "text": [
      "numpy time :  0.0844481468201\n",
      "loop  time :  2.22737698555\n",
      "list comprehension time :  1.90984823704\n"
     ]
    }
   ],
   "source": [
    "N = 10\n",
    "start = 0\n",
    "finish = 10\n",
    "num = 10000000\n",
    "\n",
    "times = np.zeros((10, 3))\n",
    "for i in range(N):\n",
    "    start = time.time()\n",
    "    np.linspace(start, finish, num)\n",
    "    finish = time.time()\n",
    "    times[i, 0] = finish - start\n",
    "    \n",
    "    start = time.time()\n",
    "    my_linspace_loop(start, finish, num)\n",
    "    finish = time.time()\n",
    "    times[i, 1] = finish - start\n",
    "    \n",
    "    start = time.time()\n",
    "    my_linspace_lc(start, finish, num)\n",
    "    finish = time.time()\n",
    "    times[i, 2] = finish - start\n",
    "\n",
    "mean_times = times.mean(axis=0)\n",
    "print \"numpy time : \", mean_times[0]\n",
    "print \"loop  time : \", mean_times[1]\n",
    "print \"list comprehension time : \", mean_times[2]"
   ]
  },
  {
   "cell_type": "code",
   "execution_count": 14,
   "metadata": {
    "collapsed": false
   },
   "outputs": [
    {
     "data": {
      "text/plain": [
       "array([[ 0.16596198,  2.28961205,  2.02755308],\n",
       "       [ 0.08392787,  2.272856  ,  1.86990714],\n",
       "       [ 0.07490993,  2.17798805,  1.94038606],\n",
       "       [ 0.07060695,  2.228477  ,  1.89246106],\n",
       "       [ 0.07224298,  2.175174  ,  1.91196895],\n",
       "       [ 0.07474899,  2.27075696,  1.88692403],\n",
       "       [ 0.07343197,  2.15363288,  1.818187  ],\n",
       "       [ 0.07290292,  2.19808793,  1.92589903],\n",
       "       [ 0.07825994,  2.31757498,  2.00077295],\n",
       "       [ 0.07748795,  2.18961   ,  1.82442307]])"
      ]
     },
     "execution_count": 14,
     "metadata": {},
     "output_type": "execute_result"
    }
   ],
   "source": [
    "times"
   ]
  },
  {
   "cell_type": "markdown",
   "metadata": {},
   "source": [
    "numpy.ndarray vs list: performance tests"
   ]
  },
  {
   "cell_type": "code",
   "execution_count": 15,
   "metadata": {
    "collapsed": true
   },
   "outputs": [],
   "source": [
    "def test_add(N, N_iter):\n",
    "    times_back = np.zeros((N_iter, 2))\n",
    "    \n",
    "    np_arr = np.ndarray([])\n",
    "    py_arr = []\n",
    "    \n",
    "    # Adding at the back\n",
    "    for i in range(N_iter):\n",
    "        start = time.time()\n",
    "        for _ in range(N):\n",
    "            np_arr = np.append(np_arr, np.ndarray(0))\n",
    "        finish = time.time()\n",
    "        times_back[i, 0] = finish - start\n",
    "    \n",
    "        start = time.time()\n",
    "        for _ in range(N):\n",
    "            py_arr.append(0)\n",
    "        finish = time.time()\n",
    "        times_back[i, 1] = finish - start\n",
    "        \n",
    "    times_front = np.zeros((N_iter, 2))\n",
    "    np_arr = np.ndarray([])\n",
    "    py_arr = []\n",
    "        \n",
    "    # Adding at the front\n",
    "    for i in range(N_iter):\n",
    "        start = time.time()\n",
    "        for _ in range(N):\n",
    "            np_arr = np.insert(np_arr, 0, 0)\n",
    "        finish = time.time()\n",
    "        times_front[i, 0] = finish - start\n",
    "    \n",
    "        start = time.time()\n",
    "        for _ in range(N):\n",
    "            py_arr.insert(0, 0)\n",
    "        finish = time.time()\n",
    "        times_front[i, 1] = finish - start\n",
    "        \n",
    "    times_middle = np.zeros((N_iter, 2))\n",
    "    np_arr = np.ndarray([])\n",
    "    py_arr = []\n",
    "        \n",
    "    # Adding in the middle\n",
    "    for i in range(N_iter):\n",
    "        start = time.time()\n",
    "        for j in range(N):\n",
    "            np_arr = np.insert(np_arr, j / 2, 0)\n",
    "        finish = time.time()\n",
    "        times_middle[i, 0] = finish - start\n",
    "    \n",
    "        start = time.time()\n",
    "        for _ in range(N):\n",
    "            py_arr.insert(j / 2, 0)\n",
    "        finish = time.time()\n",
    "        times_middle[i, 1] = finish - start\n",
    "    \n",
    "    return (times_front.mean(axis=0), times_middle.mean(axis=0), times_back.mean(axis=0))"
   ]
  },
  {
   "cell_type": "code",
   "execution_count": 16,
   "metadata": {
    "collapsed": false
   },
   "outputs": [
    {
     "name": "stdout",
     "output_type": "stream",
     "text": [
      "(array([ 0.57067232,  0.35081656]), array([ 0.51499002,  0.32024601]), array([ 0.06202421,  0.00083106]))\n"
     ]
    }
   ],
   "source": [
    "print test_add(10000, 10)"
   ]
  },
  {
   "cell_type": "markdown",
   "metadata": {},
   "source": [
    "# Matplotlib"
   ]
  },
  {
   "cell_type": "code",
   "execution_count": 17,
   "metadata": {
    "collapsed": true
   },
   "outputs": [],
   "source": [
    "import matplotlib.pyplot as plt\n",
    "%matplotlib inline"
   ]
  },
  {
   "cell_type": "code",
   "execution_count": 18,
   "metadata": {
    "collapsed": false
   },
   "outputs": [
    {
     "data": {
      "text/plain": [
       "[<matplotlib.lines.Line2D at 0x7f1e48a36810>]"
      ]
     },
     "execution_count": 18,
     "metadata": {},
     "output_type": "execute_result"
    },
    {
     "data": {
      "image/png": "[encoded data removed]",
      "text/plain": [
       "<matplotlib.figure.Figure at 0x7f1e4ae6ef50>"
      ]
     },
     "metadata": {},
     "output_type": "display_data"
    }
   ],
   "source": [
    "bound = 10\n",
    "x = np.linspace(-bound,bound)\n",
    "y1 = np.sin(x)\n",
    "y2 = np.cos(x)\n",
    "y3 = y1 + y2\n",
    "y4 = x ** 2\n",
    "y5 = x ** 3\n",
    "\n",
    "plt.plot(x,y1,'r')   \n",
    "plt.plot(x,y2,'b')  \n",
    "plt.plot(x,y3,'g')  "
   ]
  },
  {
   "cell_type": "code",
   "execution_count": 19,
   "metadata": {
    "collapsed": false
   },
   "outputs": [
    {
     "data": {
      "image/png": "[encoded data removed]",
      "text/plain": [
       "<matplotlib.figure.Figure at 0x7f1e48aa6f50>"
      ]
     },
     "metadata": {},
     "output_type": "display_data"
    }
   ],
   "source": [
    "fig, axes = plt.subplots(1, 2, figsize=(15,5))\n",
    "axes[0].plot(x, y1, 'r', label=r'$\\sin(x)$')\n",
    "axes[0].plot(x, y2, 'g', label=r'$\\cos(x)$')\n",
    "axes[0].plot(x, y3, 'b', label=r'$\\sin(x)+\\cos(x)$')\n",
    "axes[0].set_xlabel('$x$')\n",
    "axes[0].set_ylabel('$y$')\n",
    "axes[0].set_title(\"$Three \\quad graphics$\")\n",
    "axes[0].legend()\n",
    "\n",
    "axes[1].plot(x, y4, 'r', label=r'$x^2$')\n",
    "axes[1].plot(x, y5, 'g', label=r'$x^3$')\n",
    "axes[1].set_xlabel('$x$')\n",
    "axes[1].set_ylabel('$y$')\n",
    "axes[1].set_title(\"$Two \\quad graphics$\")\n",
    "axes[1].legend()\n",
    "\n",
    "plt.show()"
   ]
  },
  {
   "cell_type": "code",
   "execution_count": 20,
   "metadata": {
    "collapsed": true
   },
   "outputs": [],
   "source": [
    "fig.savefig(\"fig.pdf\")"
   ]
  },
  {
   "cell_type": "markdown",
   "metadata": {},
   "source": [
    "# SciPy"
   ]
  },
  {
   "cell_type": "code",
   "execution_count": 21,
   "metadata": {
    "collapsed": true
   },
   "outputs": [],
   "source": [
    "from scipy import linalg"
   ]
  },
  {
   "cell_type": "markdown",
   "metadata": {},
   "source": [
    "5 x 5 matrix from normal distribution"
   ]
  },
  {
   "cell_type": "code",
   "execution_count": 22,
   "metadata": {
    "collapsed": false
   },
   "outputs": [
    {
     "data": {
      "text/plain": [
       "array([[ 1.39611442, -2.11497383,  0.04687606, -0.6277454 , -0.42084497],\n",
       "       [-0.8204324 ,  1.12732884, -1.9767835 ,  1.13531112, -0.88679591],\n",
       "       [ 1.20741906, -0.7319699 ,  1.131717  , -1.15187874, -0.60477194],\n",
       "       [-1.41413133,  0.88680589, -0.53671238, -0.65215246,  0.14974019],\n",
       "       [ 0.73173392, -1.06945473,  1.09274573, -0.90087478, -0.36981672]])"
      ]
     },
     "execution_count": 22,
     "metadata": {},
     "output_type": "execute_result"
    }
   ],
   "source": [
    "norm_matrix = np.random.randn(5, 5)\n",
    "norm_matrix"
   ]
  },
  {
   "cell_type": "markdown",
   "metadata": {},
   "source": [
    "eigenvalues and eigenvectors"
   ]
  },
  {
   "cell_type": "code",
   "execution_count": 23,
   "metadata": {
    "collapsed": false
   },
   "outputs": [],
   "source": [
    "eigval, eigvec = linalg.eig(norm_matrix)"
   ]
  },
  {
   "cell_type": "markdown",
   "metadata": {},
   "source": [
    "checking"
   ]
  },
  {
   "cell_type": "code",
   "execution_count": 24,
   "metadata": {
    "collapsed": false
   },
   "outputs": [],
   "source": [
    "epsilon = 1.0e-10\n",
    "for egval, egvec in zip(eigval, eigvec.T):\n",
    "    assert abs(norm_matrix.dot(egvec) - egval * egvec < epsilon).all()        "
   ]
  }
 ],
 "metadata": {
  "kernelspec": {
   "display_name": "Python [Root]",
   "language": "python",
   "name": "Python [Root]"
  },
  "language_info": {
   "codemirror_mode": {
    "name": "ipython",
    "version": 2
   },
   "file_extension": ".py",
   "mimetype": "text/x-python",
   "name": "python",
   "nbconvert_exporter": "python",
   "pygments_lexer": "ipython2",
   "version": "2.7.12"
  }
 },
 "nbformat": 4,
 "nbformat_minor": 0
}
